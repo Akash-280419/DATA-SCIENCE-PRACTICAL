{
  "nbformat": 4,
  "nbformat_minor": 0,
  "metadata": {
    "colab": {
      "provenance": [],
      "authorship_tag": "ABX9TyMTSOZRouEM7pSS45Juim5S",
      "include_colab_link": true
    },
    "kernelspec": {
      "name": "python3",
      "display_name": "Python 3"
    },
    "language_info": {
      "name": "python"
    }
  },
  "cells": [
    {
      "cell_type": "markdown",
      "metadata": {
        "id": "view-in-github",
        "colab_type": "text"
      },
      "source": [
        "<a href=\"https://colab.research.google.com/github/Akash-280419/DATA-SCIENCE-PRACTICAL/blob/main/practical2.ipynb\" target=\"_parent\"><img src=\"https://colab.research.google.com/assets/colab-badge.svg\" alt=\"Open In Colab\"/></a>"
      ]
    },
    {
      "cell_type": "code",
      "execution_count": 2,
      "metadata": {
        "colab": {
          "base_uri": "https://localhost:8080/"
        },
        "id": "IPkI-HO0SG8o",
        "outputId": "11dbda9d-84a2-4fab-9f8e-a6b408936579"
      },
      "outputs": [
        {
          "output_type": "stream",
          "name": "stdout",
          "text": [
            "orignal array:\n",
            "[[4 8 7]\n",
            " [1 7 9]\n",
            " [0 1 0]]\n"
          ]
        }
      ],
      "source": [
        "#practical 2.1\n",
        "#write a numpy program to give sort array by the column\n",
        "#import numpy\n",
        "import numpy as np\n",
        "print(\"orignal array:\")\n",
        "nums=np.random.randint(0,10,(3,3))\n",
        "print(nums)"
      ]
    },
    {
      "cell_type": "code",
      "source": [
        "#sort the nth column in the array\n",
        "print(\"\\n Sort thr said array by the nth column:\")\n",
        "print(nums[nums[:,1].argsort()])"
      ],
      "metadata": {
        "colab": {
          "base_uri": "https://localhost:8080/"
        },
        "id": "WoOB1-tmTOKV",
        "outputId": "b9584390-ee10-4158-e3af-ce7532d470ea"
      },
      "execution_count": 3,
      "outputs": [
        {
          "output_type": "stream",
          "name": "stdout",
          "text": [
            "\n",
            " Sort thr said array by the nth column:\n",
            "[[0 1 0]\n",
            " [1 7 9]\n",
            " [4 8 7]]\n"
          ]
        }
      ]
    },
    {
      "cell_type": "code",
      "source": [
        "#2.2\n",
        "nums=np.array([[70,50,20,12,30,-11,60,50,40,25,35]])\n",
        "print(\"orignal array :\")\n",
        "print(nums)\n"
      ],
      "metadata": {
        "colab": {
          "base_uri": "https://localhost:8080/"
        },
        "id": "XvT3e8DwT2mO",
        "outputId": "8e936154-f5d8-40f2-f388-fa11e33a7276"
      },
      "execution_count": 4,
      "outputs": [
        {
          "output_type": "stream",
          "name": "stdout",
          "text": [
            "orignal array :\n",
            "[[ 70  50  20  12  30 -11  60  50  40  25  35]]\n"
          ]
        }
      ]
    },
    {
      "cell_type": "code",
      "source": [
        "print(\"\\nAfter partitioning on 4 the position:\")\n",
        "print(np.partition(nums,4))"
      ],
      "metadata": {
        "colab": {
          "base_uri": "https://localhost:8080/"
        },
        "id": "kXNO_znKWkGk",
        "outputId": "59830088-b4b9-4b61-f9bd-5fa9fdcec691"
      },
      "execution_count": 6,
      "outputs": [
        {
          "output_type": "stream",
          "name": "stdout",
          "text": [
            "\n",
            "After partitioning on 4 the position:\n",
            "[[ 12  20 -11  25  30  35  60  50  40  50  70]]\n"
          ]
        }
      ]
    }
  ]
}