{
  "nbformat": 4,
  "nbformat_minor": 0,
  "metadata": {
    "colab": {
      "provenance": [],
      "authorship_tag": "ABX9TyNn+ji1+K6aIE+VGVZW2c3q",
      "include_colab_link": true
    },
    "kernelspec": {
      "name": "python3",
      "display_name": "Python 3"
    },
    "language_info": {
      "name": "python"
    }
  },
  "cells": [
    {
      "cell_type": "markdown",
      "metadata": {
        "id": "view-in-github",
        "colab_type": "text"
      },
      "source": [
        "<a href=\"https://colab.research.google.com/github/Akash-280419/DATA-SCIENCE-PRACTICAL/blob/main/practical1.ipynb\" target=\"_parent\"><img src=\"https://colab.research.google.com/assets/colab-badge.svg\" alt=\"Open In Colab\"/></a>"
      ]
    },
    {
      "cell_type": "code",
      "execution_count": 6,
      "metadata": {
        "colab": {
          "base_uri": "https://localhost:8080/"
        },
        "id": "bDeoXDBxNTk9",
        "outputId": "9f5b4598-7f48-4bf4-92e0-1f3fe25b52a6"
      },
      "outputs": [
        {
          "output_type": "stream",
          "name": "stdout",
          "text": [
            "orignal array:\n",
            "[['c1' 'c2' 'c3' 'c4']\n",
            " ['0' '1' '3' '4']\n",
            " ['90' '91' '93' '94']\n",
            " ['500' '600' '300' '200']]\n"
          ]
        }
      ],
      "source": [
        "#Practical 1\n",
        "#Write a numpy program to swap a row and col of s give array in reverse order.\n",
        "#row r1=c1,c2,c3,c4\n",
        "#r2=0,1,2,3,4\n",
        "#r3=90,91,93,94\n",
        "#r4=500,600,300\n",
        "import numpy as np\n",
        "a=np.array([['c1','c2','c3','c4'],[0,1,3,4],[90,91,93,94],[500,600,300,200]])\n",
        "print('orignal array:')\n",
        "print(a)"
      ]
    },
    {
      "cell_type": "code",
      "source": [
        "print(\"\\\\swap the row of the said array in revers order:\")\n",
        "swap_row=a[::,::-1]\n",
        "print(swap_row)"
      ],
      "metadata": {
        "colab": {
          "base_uri": "https://localhost:8080/"
        },
        "id": "r3ys7zzbOu9I",
        "outputId": "3cf7c1c4-50a0-4e93-f81e-c23f599b928a"
      },
      "execution_count": 11,
      "outputs": [
        {
          "output_type": "stream",
          "name": "stdout",
          "text": [
            "\\swap the row of the said array in revers order:\n",
            "[['c4' 'c3' 'c2' 'c1']\n",
            " ['4' '3' '1' '0']\n",
            " ['94' '93' '91' '90']\n",
            " ['200' '300' '600' '500']]\n"
          ]
        }
      ]
    },
    {
      "cell_type": "code",
      "source": [
        "print(\"\\\\swap the coloum of the said array in revers order:\")\n",
        "swap_column=a[::,::-1]\n",
        "print(swap_column)"
      ],
      "metadata": {
        "colab": {
          "base_uri": "https://localhost:8080/"
        },
        "id": "hJ_Ix5xjPvjJ",
        "outputId": "70de73e8-b37a-43c7-e739-bffc610c2706"
      },
      "execution_count": 12,
      "outputs": [
        {
          "output_type": "stream",
          "name": "stdout",
          "text": [
            "\\swap the coloum of the said array in revers order:\n",
            "[['c4' 'c3' 'c2' 'c1']\n",
            " ['4' '3' '1' '0']\n",
            " ['94' '93' '91' '90']\n",
            " ['200' '300' '600' '500']]\n"
          ]
        }
      ]
    },
    {
      "cell_type": "code",
      "source": [
        "print(\"\\\\swap the row of the said array in revers order:\")\n",
        "swap_row_column=a[::-1,::-1]\n",
        "print(swap_row_column)"
      ],
      "metadata": {
        "colab": {
          "base_uri": "https://localhost:8080/"
        },
        "id": "tRtGS-1fQsbo",
        "outputId": "c605e7cd-3152-468b-b202-c10010318a56"
      },
      "execution_count": 13,
      "outputs": [
        {
          "output_type": "stream",
          "name": "stdout",
          "text": [
            "\\swap the row of the said array in revers order:\n",
            "[['200' '300' '600' '500']\n",
            " ['94' '93' '91' '90']\n",
            " ['4' '3' '1' '0']\n",
            " ['c4' 'c3' 'c2' 'c1']]\n"
          ]
        }
      ]
    },
    {
      "cell_type": "code",
      "source": [
        "print('swap 2nd and 4th')\n",
        "print('Orignal array')\n",
        "print(a)\n",
        "a[[1,3],:]=a[[3,1],:]\n",
        "print(a)"
      ],
      "metadata": {
        "colab": {
          "base_uri": "https://localhost:8080/"
        },
        "id": "X-7zHk65RAq4",
        "outputId": "d1ad4575-0a93-4ddd-8ae5-b576fc627aa0"
      },
      "execution_count": 14,
      "outputs": [
        {
          "output_type": "stream",
          "name": "stdout",
          "text": [
            "swap 2nd and 4th\n",
            "Orignal array\n",
            "[['c1' 'c2' 'c3' 'c4']\n",
            " ['0' '1' '3' '4']\n",
            " ['90' '91' '93' '94']\n",
            " ['500' '600' '300' '200']]\n",
            "[['c1' 'c2' 'c3' 'c4']\n",
            " ['500' '600' '300' '200']\n",
            " ['90' '91' '93' '94']\n",
            " ['0' '1' '3' '4']]\n"
          ]
        }
      ]
    }
  ]
}